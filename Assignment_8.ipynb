{
 "cells": [
  {
   "cell_type": "code",
   "execution_count": null,
   "id": "7877c159",
   "metadata": {},
   "outputs": [],
   "source": [
    "1.Is the Python Standard Library included with PyInputPlus?\n",
    "Ans: PyInputPlus is not a part of the Python Standard Library, so you must install it separately using Pip\n",
    "\n",
    "#!pip install pyinputplus"
   ]
  },
  {
   "cell_type": "code",
   "execution_count": null,
   "id": "ff78473b",
   "metadata": {},
   "outputs": [],
   "source": [
    "2. Why is PyInputPlus commonly imported with import pyinputplus as pypi? \n",
    "Ans: pypi is alias of PyInputPlus.\n",
    "As pyip code in the import statement saves us from typing pyinputplus each time we want to call a PyInputPlus function. Instead we can use the shorter pyip name\n"
   ]
  },
  {
   "cell_type": "code",
   "execution_count": null,
   "id": "b4cf72ec",
   "metadata": {},
   "outputs": [],
   "source": [
    "3.How do you distinguish between inputInt() and inputFloat()?\n",
    "Ans: inputInt() : Accepts an integer value, and returns int value\n",
    "inputFloat() : Accepts integer/floating point value and returns float value\n",
    "Both takes additional parameters ‘min’, ‘max’, ‘greaterThan’ and ‘lessThan’  for bounds\n"
   ]
  },
  {
   "cell_type": "code",
   "execution_count": null,
   "id": "7b4907aa",
   "metadata": {},
   "outputs": [],
   "source": [
    "4.Using PyInputPlus, how do you ensure that the user enters a whole number between 0 and 99?\n",
    "Ans: In the inputint function we can set the min = 0 and max =99 to ensure user enters number between 0 and 99\n",
    "pyip.inputInt(min = 0, max =99)\n"
   ]
  },
  {
   "cell_type": "code",
   "execution_count": null,
   "id": "9f67eb16",
   "metadata": {},
   "outputs": [],
   "source": [
    "5.What is transferred to the keyword arguments allowRegexes and blockRegexes?\n",
    "Ans: we can also use regular expressions to specify whether an input is allowed or not. The allowRegexes and blockRegexes keyword arguments take a list of regular expression strings to determine what the PyInputPlus function will accept or reject as valid input.\n"
   ]
  },
  {
   "cell_type": "code",
   "execution_count": null,
   "id": "213c93a6",
   "metadata": {},
   "outputs": [],
   "source": [
    "6.If a blank input is entered three times, what does inputStr(limit=3) do?\n",
    "Ans: it will throw RetryLimitException exception.\n"
   ]
  },
  {
   "cell_type": "code",
   "execution_count": null,
   "id": "28815760",
   "metadata": {},
   "outputs": [],
   "source": [
    "7. If blank input is entered three times, what does inputStr(limit=3, default='hello') do?\n",
    "\n",
    "Ans: When you use limit keyword arguments and also pass a default keyword argument, the function returns the default value instead of raising an exception\n"
   ]
  }
 ],
 "metadata": {
  "kernelspec": {
   "display_name": "Python 3 (ipykernel)",
   "language": "python",
   "name": "python3"
  },
  "language_info": {
   "codemirror_mode": {
    "name": "ipython",
    "version": 3
   },
   "file_extension": ".py",
   "mimetype": "text/x-python",
   "name": "python",
   "nbconvert_exporter": "python",
   "pygments_lexer": "ipython3",
   "version": "3.9.7"
  }
 },
 "nbformat": 4,
 "nbformat_minor": 5
}
