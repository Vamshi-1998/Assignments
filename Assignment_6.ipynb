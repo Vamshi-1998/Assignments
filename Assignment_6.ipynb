{
 "cells": [
  {
   "cell_type": "code",
   "execution_count": null,
   "id": "24c48894",
   "metadata": {},
   "outputs": [],
   "source": [
    "1. What are escape characters, and how do you use them?\n",
    "Ans: Escape characters represent characters in string values that would otherwise be difficult or impossible to type into code.\n"
   ]
  },
  {
   "cell_type": "code",
   "execution_count": null,
   "id": "a6d5d9ba",
   "metadata": {},
   "outputs": [],
   "source": [
    "2. What do the escape characters n and t stand for?\n",
    "Ans: \\n - newline\n",
    "     \\t - tab\n"
   ]
  },
  {
   "cell_type": "code",
   "execution_count": null,
   "id": "ff0dc0aa",
   "metadata": {},
   "outputs": [],
   "source": [
    "3. What is the way to include backslash characters in a string?\n",
    "Ans: The \\\\ escape character will represent a backslash character.\n"
   ]
  },
  {
   "cell_type": "code",
   "execution_count": null,
   "id": "79409d35",
   "metadata": {},
   "outputs": [],
   "source": [
    "4. The string \"Howl's Moving Castle\" is a correct value. Why isn't the single quote character in the word Howl's not escaped a problem?\n",
    "Ans: The single quote in Howl's is fine because there is double quotes to mark the beginning     and end of the string.\n"
   ]
  },
  {
   "cell_type": "code",
   "execution_count": null,
   "id": "9f754fe6",
   "metadata": {},
   "outputs": [],
   "source": [
    "5. How do you write a string of newlines if you don't want to use the n character?\n",
    "Ans: Multiline strings allow you to use newlines in strings without the \\n escape character.\n"
   ]
  },
  {
   "cell_type": "code",
   "execution_count": null,
   "id": "d1b93871",
   "metadata": {},
   "outputs": [],
   "source": [
    "6. What are the values of the given expressions?\n",
    "'Hello, world!'[1] – ‘e’\n",
    "'Hello, world!'[0:5] – ‘Hello’\n",
    "'Hello, world!'[:5] – ‘Hello’\n",
    "'Hello, world!'[3:] – ‘lo world!\n",
    "\n"
   ]
  },
  {
   "cell_type": "code",
   "execution_count": null,
   "id": "48ae6a63",
   "metadata": {},
   "outputs": [],
   "source": [
    "7. What are the values of the following expressions?\n",
    "'Hello'.upper() – ‘HELLO’\n",
    "'Hello'.upper().isupper() - True\n",
    "'Hello'.upper().lower() – ‘hello’\n"
   ]
  },
  {
   "cell_type": "code",
   "execution_count": null,
   "id": "4f17ac14",
   "metadata": {},
   "outputs": [],
   "source": [
    "8. What are the values of the following expressions?\n",
    "'Remember, remember, the fifth of July.'.split()\n",
    "Ans: ['Remember,', 'remember,', 'the', 'fifth', 'of', 'July.']\n",
    "'-'.join('There can only one.'.split())\n",
    "Ans: 'There-can-only-one.'\n",
    "\n"
   ]
  },
  {
   "cell_type": "code",
   "execution_count": null,
   "id": "9e0203ac",
   "metadata": {},
   "outputs": [],
   "source": [
    "9. What are the methods for right-justifying, left-justifying, and centering a string?\n",
    "Ans: rjust(), ljust(), and center()\n"
   ]
  },
  {
   "cell_type": "code",
   "execution_count": null,
   "id": "9d70c6c6",
   "metadata": {},
   "outputs": [],
   "source": [
    "10. What is the best way to remove whitespace characters from the start or end?\n",
    "Ans: The lstrip() and rstrip() methods remove whitespace from the left and right ends of a string, respectively.\n"
   ]
  },
  {
   "cell_type": "code",
   "execution_count": null,
   "id": "054fc0e6",
   "metadata": {},
   "outputs": [],
   "source": []
  }
 ],
 "metadata": {
  "kernelspec": {
   "display_name": "Python 3 (ipykernel)",
   "language": "python",
   "name": "python3"
  },
  "language_info": {
   "codemirror_mode": {
    "name": "ipython",
    "version": 3
   },
   "file_extension": ".py",
   "mimetype": "text/x-python",
   "name": "python",
   "nbconvert_exporter": "python",
   "pygments_lexer": "ipython3",
   "version": "3.9.7"
  }
 },
 "nbformat": 4,
 "nbformat_minor": 5
}
