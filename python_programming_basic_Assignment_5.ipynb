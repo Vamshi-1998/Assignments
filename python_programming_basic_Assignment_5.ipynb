{
 "cells": [
  {
   "cell_type": "code",
   "execution_count": 1,
   "id": "1b3edb6c",
   "metadata": {},
   "outputs": [
    {
     "data": {
      "text/plain": [
       "12"
      ]
     },
     "execution_count": 1,
     "metadata": {},
     "output_type": "execute_result"
    }
   ],
   "source": [
    "#1. Write a Python Program to Find LCM?\n",
    "\n",
    "try:\n",
    "    class test:\n",
    "        def lcm(self,a,b):\n",
    "            if a>b:\n",
    "                greater = a\n",
    "            else:\n",
    "                greater = b\n",
    "            \n",
    "            while(True):\n",
    "                if((greater % a == 0) and (greater % b == 0)):\n",
    "                    lcm = greater  \n",
    "                    break  \n",
    "                greater += 1  \n",
    "            return lcm \n",
    "    \n",
    "except Exception as e:\n",
    "    print(e)\n",
    " \n",
    "\n",
    "x = test()    \n",
    "x.lcm(4,6)    "
   ]
  },
  {
   "cell_type": "code",
   "execution_count": 2,
   "id": "d338612c",
   "metadata": {},
   "outputs": [
    {
     "data": {
      "text/plain": [
       "10"
      ]
     },
     "execution_count": 2,
     "metadata": {},
     "output_type": "execute_result"
    }
   ],
   "source": [
    "#2. Write a Python Program to Find HCF?\n",
    "\n",
    "try:\n",
    "    class test1:\n",
    "        def hcf(self,x, y):\n",
    "            if x > y:  \n",
    "                smaller = y  \n",
    "            else:  \n",
    "                smaller = x  \n",
    "            for i in range(1,smaller + 1):  \n",
    "                if((x % i == 0) and (y % i == 0)):  \n",
    "                    hcf = i  \n",
    "            return hcf  \n",
    "\n",
    "except Exception as e:\n",
    "    print(e)\n",
    "    \n",
    "w = test1()\n",
    "\n",
    "w.hcf(20,30)"
   ]
  },
  {
   "cell_type": "code",
   "execution_count": 3,
   "id": "07f7fd96",
   "metadata": {},
   "outputs": [
    {
     "name": "stdout",
     "output_type": "stream",
     "text": [
      "The given decimal number 64 in Binary number is:  0b1000000\n",
      "The given decimal number 64 in Octal number is:  0o100\n",
      "The given decimal number 64  in Hexadecimal number is:  0x40\n"
     ]
    }
   ],
   "source": [
    "#3.Write a Python Program to Convert Decimal to Binary, Octal and Hexadecimal?\n",
    "\n",
    "try:\n",
    "    class test2:\n",
    "        def decimal_into_binary(self,decimal_1):  \n",
    "            decimal = int(decimal_1)  \n",
    "            print (\"The given decimal number\", decimal, \"in Binary number is: \", bin(decimal))  \n",
    "\n",
    "        def decimal_into_octal(self,decimal_1):  \n",
    "            decimal = int(decimal_1)  \n",
    "            print (\"The given decimal number\", decimal, \"in Octal number is: \", oct(decimal))  \n",
    "\n",
    "        def decimal_into_hexadecimal(self,decimal_1):  \n",
    "            decimal = int(decimal_1)\n",
    "            print (\"The given decimal number\", decimal, \" in Hexadecimal number is: \", hex(decimal))\n",
    "\n",
    "except Exception as e: \n",
    "    print(e) \n",
    "\n",
    "z = test2() \n",
    "z.decimal_into_binary(64)\n",
    "z.decimal_into_octal(64)\n",
    "z.decimal_into_hexadecimal(64)"
   ]
  },
  {
   "cell_type": "code",
   "execution_count": 4,
   "id": "78b88355",
   "metadata": {},
   "outputs": [
    {
     "name": "stdout",
     "output_type": "stream",
     "text": [
      "The ASCII value of 'A' is  65\n"
     ]
    }
   ],
   "source": [
    "#4.Write a Python Program To Find ASCII value of a character?\n",
    "\n",
    "try:\n",
    "    class test3:\n",
    "        def ascii(self,a):\n",
    "               \n",
    "            print (\"The ASCII value of '\" + a + \"' is \", ord(a))\n",
    "            \n",
    "except Exception as e:\n",
    "    print(e)\n",
    "    \n",
    "y = test3()\n",
    "y.ascii(\"A\")"
   ]
  },
  {
   "cell_type": "code",
   "execution_count": 5,
   "id": "967f53f7",
   "metadata": {},
   "outputs": [
    {
     "name": "stdout",
     "output_type": "stream",
     "text": [
      "Please select operation -\n",
      "1. Add\n",
      "2. Subtract\n",
      "3. Multiply\n",
      "4. Divide\n",
      "\n",
      "Select operations form 1, 2, 3, 4 :4\n",
      "Enter first number: 2\n",
      "Enter second number: 3\n",
      "2 / 3 = 0.6666666666666666\n"
     ]
    }
   ],
   "source": [
    "#5.Write a Python Program to Make a Simple Calculator with 4 basic mathematical operations?\n",
    "\n",
    "try:\n",
    "    def add(num1, num2):\n",
    "            return num1 + num2\n",
    "\n",
    "    def subtract(num1, num2):\n",
    "            return num1 - num2\n",
    "\n",
    "    def multiply(num1, num2):\n",
    "            return num1 * num2\n",
    "\n",
    "    def divide(num1, num2):\n",
    "            return num1 / num2\n",
    "\n",
    "    print(\"Please select operation -\\n\" \\\n",
    "      \"1. Add\\n\" \\\n",
    "      \"2. Subtract\\n\" \\\n",
    "      \"3. Multiply\\n\" \\\n",
    "      \"4. Divide\\n\")\n",
    "\n",
    "\n",
    "    select = int(input(\"Select operations form 1, 2, 3, 4 :\"))\n",
    "\n",
    "    number_1 = int(input(\"Enter first number: \"))\n",
    "    number_2 = int(input(\"Enter second number: \"))\n",
    "\n",
    "    if select == 1:\n",
    "            print(number_1, \"+\", number_2, \"=\",\n",
    "            add(number_1, number_2))\n",
    "\n",
    "    elif select == 2:\n",
    "            print(number_1, \"-\", number_2, \"=\",\n",
    "            subtract(number_1, number_2))\n",
    "\n",
    "    elif select == 3:\n",
    "            print(number_1, \"*\", number_2, \"=\",\n",
    "            multiply(number_1, number_2))\n",
    "\n",
    "    elif select == 4:\n",
    "            print(number_1, \"/\", number_2, \"=\",\n",
    "            divide(number_1, number_2))\n",
    "    else:\n",
    "            print(\"Invalid input\")\n",
    "            \n",
    "    \n",
    "        \n",
    "except Exception as e:\n",
    "    print(e)\n",
    "    "
   ]
  },
  {
   "cell_type": "code",
   "execution_count": null,
   "id": "fb10745b",
   "metadata": {},
   "outputs": [],
   "source": []
  }
 ],
 "metadata": {
  "kernelspec": {
   "display_name": "Python 3 (ipykernel)",
   "language": "python",
   "name": "python3"
  },
  "language_info": {
   "codemirror_mode": {
    "name": "ipython",
    "version": 3
   },
   "file_extension": ".py",
   "mimetype": "text/x-python",
   "name": "python",
   "nbconvert_exporter": "python",
   "pygments_lexer": "ipython3",
   "version": "3.9.7"
  }
 },
 "nbformat": 4,
 "nbformat_minor": 5
}
