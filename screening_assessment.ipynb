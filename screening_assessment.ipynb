{
 "cells": [
  {
   "cell_type": "code",
   "execution_count": 1,
   "id": "8811edaf",
   "metadata": {},
   "outputs": [],
   "source": [
    "with open('example.txt', \"w\") as f:\n",
    "    f.write(\"This is a placement assignment\")\n",
    "    f.close()"
   ]
  },
  {
   "cell_type": "code",
   "execution_count": 2,
   "id": "7253ea52",
   "metadata": {},
   "outputs": [],
   "source": [
    "def replace_string(file):\n",
    "    file = open(file, 'r')\n",
    "    file = file.read()\n",
    "    file = file.replace('placement', 'screening')\n",
    "    print(file)"
   ]
  },
  {
   "cell_type": "code",
   "execution_count": 3,
   "id": "3b1b63ec",
   "metadata": {},
   "outputs": [
    {
     "name": "stdout",
     "output_type": "stream",
     "text": [
      "This is a screening assignment\n"
     ]
    }
   ],
   "source": [
    "replace_string('example.txt')"
   ]
  },
  {
   "cell_type": "markdown",
   "id": "69ff7518",
   "metadata": {},
   "source": [
    "# DECORATORS"
   ]
  },
  {
   "cell_type": "code",
   "execution_count": 22,
   "id": "17ccec22",
   "metadata": {},
   "outputs": [],
   "source": [
    "### Decorators\n",
    "def main_welcome(func):\n",
    "    \n",
    "    def sub_welcome_class():\n",
    "        print(\"ineuron screening assessment\")\n",
    "        func()\n",
    "        print(\"FDFS course\")\n",
    "    return sub_welcome_class()"
   ]
  },
  {
   "cell_type": "markdown",
   "id": "37c2dc2d",
   "metadata": {},
   "source": [
    "Decorators allow us to wrap another function in order to extend the behaviour of the wrapped function, without permanently modifying it."
   ]
  },
  {
   "cell_type": "code",
   "execution_count": 23,
   "id": "e96b9955",
   "metadata": {},
   "outputs": [
    {
     "name": "stdout",
     "output_type": "stream",
     "text": [
      "ineuron screening assessment\n",
      "FDFS batch\n",
      "FDFS course\n"
     ]
    }
   ],
   "source": [
    "@main_welcome\n",
    "def channel_name():\n",
    "    print(\"FDFS batch\")"
   ]
  },
  {
   "cell_type": "markdown",
   "id": "9d3dbae1",
   "metadata": {},
   "source": [
    "# ABSTRACT CLASS"
   ]
  },
  {
   "cell_type": "markdown",
   "id": "96a7a01d",
   "metadata": {},
   "source": [
    "A class is called an Abstract class if it contains one or more abstract methods. An abstract method is a method that is declared, but contains no implementation. Abstract classes may not be instantiated, and its abstract methods must be implemented by its subclasses"
   ]
  },
  {
   "cell_type": "code",
   "execution_count": 19,
   "id": "107c4925",
   "metadata": {},
   "outputs": [],
   "source": [
    "class sweets():\n",
    "    def calories(self):\n",
    "        pass\n",
    "    \n",
    "class gulabjamun(sweets):\n",
    "    def calories(self):\n",
    "        print(\"100 calories\")\n",
    "        \n",
    "class rosogola(sweets):\n",
    "    def calories(self):\n",
    "        print(\"70 calories\")\n",
    "        \n",
    "class rabidi(sweets):\n",
    "    def calories(self):\n",
    "        print(\"120 calories\")\n",
    "        "
   ]
  },
  {
   "cell_type": "code",
   "execution_count": 20,
   "id": "67c516a1",
   "metadata": {},
   "outputs": [
    {
     "name": "stdout",
     "output_type": "stream",
     "text": [
      "100 calories\n",
      "70 calories\n",
      "120 calories\n"
     ]
    }
   ],
   "source": [
    "g= gulabjamun()   \n",
    "g.calories()   \n",
    "  \n",
    "r = rosogola()   \n",
    "r.calories()   \n",
    "  \n",
    "r1 = rabidi()   \n",
    "r1.calories() \n"
   ]
  },
  {
   "cell_type": "markdown",
   "id": "97c559ec",
   "metadata": {},
   "source": [
    "# MULTIPLE INHERITANCE"
   ]
  },
  {
   "cell_type": "markdown",
   "id": "6d711132",
   "metadata": {},
   "source": [
    "When a class is derived from more than one base class it is called multiple Inheritance. The derived class inherits all the features of the base case."
   ]
  },
  {
   "cell_type": "code",
   "execution_count": 8,
   "id": "18de127d",
   "metadata": {},
   "outputs": [],
   "source": [
    "class A:\n",
    "    def method1(self):\n",
    "        print(\"A class method is called\")"
   ]
  },
  {
   "cell_type": "code",
   "execution_count": 9,
   "id": "0d11d70d",
   "metadata": {},
   "outputs": [],
   "source": [
    "class B(A):\n",
    "    def method1(self):\n",
    "        print(\"B class method is called\")\n",
    "    def method2(self):\n",
    "        print(\"B class method is called\")"
   ]
  },
  {
   "cell_type": "code",
   "execution_count": 10,
   "id": "a672eea3",
   "metadata": {},
   "outputs": [],
   "source": [
    "class C(A):\n",
    "    def method1(self):\n",
    "        print(\"C class method is called\")"
   ]
  },
  {
   "cell_type": "code",
   "execution_count": 11,
   "id": "0825d08e",
   "metadata": {},
   "outputs": [],
   "source": [
    "class D(B,C):\n",
    "    def method1(self):\n",
    "        print(\"D class method is called\")\n",
    "        C.method1(self)\n",
    "        B.method1(self)\n",
    "        A.method1(self)"
   ]
  },
  {
   "cell_type": "code",
   "execution_count": 12,
   "id": "0d2ecd09",
   "metadata": {},
   "outputs": [],
   "source": [
    "d = D()\n"
   ]
  },
  {
   "cell_type": "code",
   "execution_count": 13,
   "id": "777924b7",
   "metadata": {},
   "outputs": [
    {
     "name": "stdout",
     "output_type": "stream",
     "text": [
      "D class method is called\n",
      "C class method is called\n",
      "B class method is called\n",
      "A class method is called\n"
     ]
    }
   ],
   "source": [
    "d.method1()\n"
   ]
  },
  {
   "cell_type": "code",
   "execution_count": 14,
   "id": "385c8dd8",
   "metadata": {},
   "outputs": [
    {
     "name": "stdout",
     "output_type": "stream",
     "text": [
      "B class method is called\n"
     ]
    }
   ],
   "source": [
    "#method2 of class B\n",
    "d.method2()"
   ]
  },
  {
   "cell_type": "code",
   "execution_count": 15,
   "id": "7675c6f4",
   "metadata": {},
   "outputs": [
    {
     "name": "stdout",
     "output_type": "stream",
     "text": [
      "B class method is called\n"
     ]
    }
   ],
   "source": [
    "## call class B method 1\n",
    "B.method1(d)"
   ]
  },
  {
   "cell_type": "code",
   "execution_count": 16,
   "id": "97f99074",
   "metadata": {},
   "outputs": [
    {
     "name": "stdout",
     "output_type": "stream",
     "text": [
      "A class method is called\n"
     ]
    }
   ],
   "source": [
    "## call class B method 1\n",
    "A.method1(d)"
   ]
  },
  {
   "cell_type": "code",
   "execution_count": null,
   "id": "0cf1582b",
   "metadata": {},
   "outputs": [],
   "source": []
  },
  {
   "cell_type": "code",
   "execution_count": null,
   "id": "cd8237de",
   "metadata": {},
   "outputs": [],
   "source": []
  }
 ],
 "metadata": {
  "kernelspec": {
   "display_name": "Python 3 (ipykernel)",
   "language": "python",
   "name": "python3"
  },
  "language_info": {
   "codemirror_mode": {
    "name": "ipython",
    "version": 3
   },
   "file_extension": ".py",
   "mimetype": "text/x-python",
   "name": "python",
   "nbconvert_exporter": "python",
   "pygments_lexer": "ipython3",
   "version": "3.9.7"
  }
 },
 "nbformat": 4,
 "nbformat_minor": 5
}
