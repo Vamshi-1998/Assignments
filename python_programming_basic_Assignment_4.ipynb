{
 "cells": [
  {
   "cell_type": "code",
   "execution_count": 5,
   "id": "811cd9b8",
   "metadata": {},
   "outputs": [
    {
     "name": "stdout",
     "output_type": "stream",
     "text": [
      "enter a number5\n",
      "factorial of 5 is 120\n"
     ]
    }
   ],
   "source": [
    "#1.Write a Python Program to Find the Factorial of a Number?\n",
    "\n",
    "try:\n",
    "    n = int(input(\"enter a number\"))\n",
    "    factorial = 1\n",
    "    if(n<0):\n",
    "        print(\"factorial doesn't exist for negative number\")\n",
    "    elif(n==0):\n",
    "        print(\"factorial of 0 is 1\")\n",
    "    else:    \n",
    "        for i in range(1,n+1):\n",
    "            factorial = factorial*i\n",
    "        print(\"factorial of\" ,n, \"is\" ,factorial)\n",
    "except Exception as e:\n",
    "    print(e)\n",
    "        "
   ]
  },
  {
   "cell_type": "code",
   "execution_count": 3,
   "id": "7dc6e74e",
   "metadata": {},
   "outputs": [
    {
     "name": "stdout",
     "output_type": "stream",
     "text": [
      "enter the number to display multiplication table: 3\n",
      "3 x 1 = 3\n",
      "3 x 2 = 6\n",
      "3 x 3 = 9\n",
      "3 x 4 = 12\n",
      "3 x 5 = 15\n",
      "3 x 6 = 18\n",
      "3 x 7 = 21\n",
      "3 x 8 = 24\n",
      "3 x 9 = 27\n",
      "3 x 10 = 30\n"
     ]
    }
   ],
   "source": [
    "#2.Write a Python Program to Display the multiplication Table?\n",
    "\n",
    "try:\n",
    "    n = int(input(\"enter the number to display multiplication table: \"))\n",
    "    count = 1\n",
    "    while(count<=10):\n",
    "        print(n,\"x\" ,count ,\"=\" ,n*count)\n",
    "        count+=1\n",
    "except Exception as e:\n",
    "    print(e)\n",
    "           \n",
    "        "
   ]
  },
  {
   "cell_type": "code",
   "execution_count": 10,
   "id": "e8f9f6ff",
   "metadata": {},
   "outputs": [
    {
     "name": "stdout",
     "output_type": "stream",
     "text": [
      "55\n"
     ]
    }
   ],
   "source": [
    "#3.Write a Python Program to Print the Fibonacci sequence?\n",
    "\n",
    "try:\n",
    "    def fibonacci(n):\n",
    "        a = 0\n",
    "        b = 1\n",
    "        if n<0:\n",
    "            print(\"invalid input\")\n",
    "        elif n == 0:\n",
    "            return a\n",
    "        elif n == 1:\n",
    "            return b\n",
    "        else:\n",
    "            for i in range(1,n):\n",
    "                c = a+b\n",
    "                a = b\n",
    "                b = c\n",
    "            return b\n",
    "except Exception as e:\n",
    "    print(e)\n",
    "    \n",
    "print(fibonacci(10))    \n",
    "                \n",
    "            \n",
    "            \n",
    "                "
   ]
  },
  {
   "cell_type": "code",
   "execution_count": 14,
   "id": "2bb8cd12",
   "metadata": {},
   "outputs": [
    {
     "name": "stdout",
     "output_type": "stream",
     "text": [
      "Enter a number: 1634\n",
      "1634 is an Armstrong number\n"
     ]
    }
   ],
   "source": [
    "#4.Write a Python Program to Check Armstrong Number?\n",
    "\n",
    "try:\n",
    "    num = int(input(\"Enter a number: \"))\n",
    "    order = len(str(num))\n",
    "\n",
    "\n",
    "\n",
    "    sum = 0\n",
    "\n",
    "\n",
    "    temp = num\n",
    "    while temp > 0:\n",
    "        digit = temp % 10\n",
    "        sum += digit ** order\n",
    "        temp //= 10\n",
    "\n",
    "\n",
    "    if num == sum:\n",
    "        print(num,\"is an Armstrong number\")\n",
    "    else:\n",
    "        print(num,\"is not an Armstrong number\")\n",
    "    \n",
    "   \n",
    "      \n",
    "        \n",
    "except Exception as e:\n",
    "    print(e)\n",
    "    \n",
    "   \n",
    "            "
   ]
  },
  {
   "cell_type": "code",
   "execution_count": 28,
   "id": "1eeb5f5f",
   "metadata": {},
   "outputs": [
    {
     "name": "stdout",
     "output_type": "stream",
     "text": [
      "enter the lower bound100\n",
      "enter the upper bound2000\n",
      "153\n",
      "370\n",
      "371\n",
      "407\n",
      "1634\n"
     ]
    }
   ],
   "source": [
    "#5.Write a Python Program to Find Armstrong Number in an Interval?\n",
    "\n",
    "try:\n",
    "    lower = int(input(\"enter the lower bound\"))\n",
    "    upper = int(input(\"enter the upper bound\"))\n",
    "\n",
    "    for num in range(lower, upper + 1):\n",
    "        order = len(str(num))\n",
    "        sum = 0\n",
    "        temp = num\n",
    "        while temp > 0:\n",
    "            digit = temp % 10\n",
    "            sum += digit ** order\n",
    "            temp //= 10\n",
    "\n",
    "        if num == sum:\n",
    "            print(num)\n",
    "except Exception as e:\n",
    "    print(e)    \n",
    "\n",
    "   \n",
    "      \n",
    "    \n",
    "   \n",
    "   \n",
    "\n",
    "  \n",
    "   "
   ]
  },
  {
   "cell_type": "code",
   "execution_count": 27,
   "id": "5f4529ea",
   "metadata": {},
   "outputs": [
    {
     "name": "stdout",
     "output_type": "stream",
     "text": [
      "136.0\n"
     ]
    }
   ],
   "source": [
    "#6.Write a Python Program to Find the Sum of Natural Numbers?##\n",
    "\n",
    "try:\n",
    "    def sum(n):\n",
    "        \n",
    "        for i in range(n):\n",
    "              \n",
    "            x = (n*(n+1))/2\n",
    "            return x\n",
    "except Exception as e:\n",
    "    print(e)\n",
    "    \n",
    "print(sum(16))    \n",
    "    \n",
    "           "
   ]
  },
  {
   "cell_type": "code",
   "execution_count": null,
   "id": "c271aef7",
   "metadata": {},
   "outputs": [],
   "source": []
  }
 ],
 "metadata": {
  "kernelspec": {
   "display_name": "Python 3 (ipykernel)",
   "language": "python",
   "name": "python3"
  },
  "language_info": {
   "codemirror_mode": {
    "name": "ipython",
    "version": 3
   },
   "file_extension": ".py",
   "mimetype": "text/x-python",
   "name": "python",
   "nbconvert_exporter": "python",
   "pygments_lexer": "ipython3",
   "version": "3.9.7"
  }
 },
 "nbformat": 4,
 "nbformat_minor": 5
}
