{
 "cells": [
  {
   "cell_type": "code",
   "execution_count": 1,
   "id": "72cc8faa",
   "metadata": {},
   "outputs": [
    {
     "name": "stdout",
     "output_type": "stream",
     "text": [
      "Enter number of terms9\n",
      "Fibonacci sequence:\n",
      "0\n",
      "1\n",
      "1\n",
      "2\n",
      "3\n",
      "5\n",
      "8\n",
      "13\n",
      "21\n"
     ]
    }
   ],
   "source": [
    "#1. 1. Write a Python Program to Display Fibonacci Sequence Using Recursion?\n",
    "\n",
    "try:\n",
    "    def recur_fibo(n):\n",
    "        if n <= 1:\n",
    "            return n\n",
    "        else:\n",
    "            return(recur_fibo(n-1) + recur_fibo(n-2))\n",
    "\n",
    "    nterms = int(input(\"Enter number of terms\"))\n",
    "\n",
    "\n",
    "    if nterms <= 0:\n",
    "        print(\"Please enter a positive integer\")\n",
    "    else:\n",
    "        print(\"Fibonacci sequence:\")\n",
    "        for i in range(nterms):\n",
    "            print(recur_fibo(i))\n",
    "            \n",
    "except Exception as e:\n",
    "    print(e)\n",
    "            "
   ]
  },
  {
   "cell_type": "code",
   "execution_count": 4,
   "id": "8d5dff4e",
   "metadata": {},
   "outputs": [
    {
     "name": "stdout",
     "output_type": "stream",
     "text": [
      "Enter the number: 4\n",
      "Factorial of 4 is 24\n"
     ]
    }
   ],
   "source": [
    "#2. Write a Python Program to Find Factorial of Number Using Recursion?\n",
    "\n",
    "try:\n",
    "     def factorial(n):\n",
    "        return 1 if (n==1 or n==0) else n * factorial(n - 1);\n",
    "     num = int(input(\"Enter the number: \"))\n",
    "     print(\"Factorial of\",num,\"is\", factorial(num))\n",
    "\n",
    "except Exception as e:\n",
    "    print(e)\n",
    "   "
   ]
  },
  {
   "cell_type": "code",
   "execution_count": 13,
   "id": "0a62c08a",
   "metadata": {},
   "outputs": [
    {
     "name": "stdout",
     "output_type": "stream",
     "text": [
      "The BMI is 23.437499999999996\n"
     ]
    }
   ],
   "source": [
    "#3. Write a Python Program to calculate your Body Mass Index?\n",
    "\n",
    "try:\n",
    "    def BMI_calculator(height,weight):\n",
    "        BMI = weight / (height/100)**2\n",
    "        return BMI\n",
    "    \n",
    "    \n",
    "   \n",
    "except Exception as e:\n",
    "    print(e)\n",
    "    \n",
    "print(\"The BMI is\" ,BMI_calculator(160,60))     "
   ]
  },
  {
   "cell_type": "code",
   "execution_count": 14,
   "id": "e818809c",
   "metadata": {},
   "outputs": [
    {
     "name": "stdout",
     "output_type": "stream",
     "text": [
      "Natural logarithm is 2.6390573296152584\n"
     ]
    }
   ],
   "source": [
    "#4. Write a Python Program to calculate the natural logarithm of any number?\n",
    "\n",
    "import math\n",
    "\n",
    "try:\n",
    "    \n",
    "    def log(a):\n",
    "        return math.log(a)\n",
    "except Exception as e:\n",
    "    print(e)\n",
    "\n",
    "print(\"Natural logarithm is\" ,log(14))    \n"
   ]
  },
  {
   "cell_type": "code",
   "execution_count": 16,
   "id": "a987f7d8",
   "metadata": {},
   "outputs": [
    {
     "name": "stdout",
     "output_type": "stream",
     "text": [
      "Enter the number for cube sum of first n natural numbers: 4\n",
      "cube sum is: 100\n"
     ]
    }
   ],
   "source": [
    "#5. Write a Python Program for cube sum of first n natural numbers?\n",
    "\n",
    "try:\n",
    "    \n",
    "    \n",
    "  \n",
    "\n",
    "    def sumOfSeries(n):\n",
    "        sum = 0\n",
    "        for i in range(1, n+1):\n",
    "            sum +=i*i*i\n",
    "\n",
    "        return sum\n",
    "\n",
    "\n",
    "\n",
    "    n = int(input(\"Enter the number for cube sum of first n natural numbers: \"))\n",
    "    \n",
    "    print(\"cube sum is:\" ,sumOfSeries(n))\n",
    "\n",
    "except Exception as e:\n",
    "    print(e)"
   ]
  },
  {
   "cell_type": "code",
   "execution_count": null,
   "id": "7ddfb7f2",
   "metadata": {},
   "outputs": [],
   "source": []
  }
 ],
 "metadata": {
  "kernelspec": {
   "display_name": "Python 3 (ipykernel)",
   "language": "python",
   "name": "python3"
  },
  "language_info": {
   "codemirror_mode": {
    "name": "ipython",
    "version": 3
   },
   "file_extension": ".py",
   "mimetype": "text/x-python",
   "name": "python",
   "nbconvert_exporter": "python",
   "pygments_lexer": "ipython3",
   "version": "3.9.7"
  }
 },
 "nbformat": 4,
 "nbformat_minor": 5
}
