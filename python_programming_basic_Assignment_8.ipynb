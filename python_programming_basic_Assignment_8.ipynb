{
 "cells": [
  {
   "cell_type": "code",
   "execution_count": 3,
   "id": "4e7dad20",
   "metadata": {},
   "outputs": [
    {
     "name": "stdout",
     "output_type": "stream",
     "text": [
      "Enter the number of rows: 2\n",
      "Enter the number of columns: 2\n",
      "1\n",
      "2\n",
      "3\n",
      "4\n",
      "1 2 \n",
      "3 4 \n",
      "Enter the number of rows: 2\n",
      "Enter the number of columns: 2\n",
      "5\n",
      "6\n",
      "7\n",
      "8\n",
      "5 6 \n",
      "7 8 \n",
      "The sum of matrix is \n",
      " [[ 6  8]\n",
      " [10 12]]\n"
     ]
    }
   ],
   "source": [
    "#1.Write a Python Program to Add Two Matrices\n",
    "\n",
    "try:\n",
    "    import numpy as np\n",
    "\n",
    "    R = int(input(\"Enter the number of rows: \"))\n",
    "    C = int(input(\"Enter the number of columns: \"))\n",
    "    matrix = []\n",
    "    for i in range(R):\n",
    "        a = []\n",
    "        for j in range(C):\n",
    "            a.append(int(input()))\n",
    "        matrix.append(a)    \n",
    "    for i in range(R):\n",
    "        for j in range(C):\n",
    "            print(matrix[i][j] , end = \" \")\n",
    "        print()\n",
    "\n",
    "    R1 = int(input(\"Enter the number of rows: \"))\n",
    "    C1 = int(input(\"Enter the number of columns: \"))\n",
    "    matrix2 = []\n",
    "    for x in range(R1):\n",
    "        b = []\n",
    "        for y in range(C1):\n",
    "            b.append(int(input()))\n",
    "        matrix2.append(b)    \n",
    "    for x in range(R1):\n",
    "        for y in range(C1):\n",
    "            print(matrix2[x][y] , end = \" \")\n",
    "        print()  \n",
    "        \n",
    "except Exception as e:\n",
    "    print(e)\n",
    "p = np.mat(matrix)\n",
    "w = np.mat(matrix2)\n",
    "print(\"The sum of matrix is \\n\", p+w)"
   ]
  },
  {
   "cell_type": "code",
   "execution_count": 6,
   "id": "2cbbbd3a",
   "metadata": {},
   "outputs": [
    {
     "name": "stdout",
     "output_type": "stream",
     "text": [
      "Enter the number of rows2\n",
      "Enter the number of columns2\n",
      "1\n",
      "2\n",
      "3\n",
      "4\n",
      "1 2 \n",
      "3 4 \n",
      "Enter the number of rows: 2\n",
      "Enter the number of columns: 2\n",
      "5\n",
      "6\n",
      "7\n",
      "8\n",
      "5 6 \n",
      "7 8 \n",
      "The multiplication of matrix : \n",
      " [[19 22]\n",
      " [43 50]]\n"
     ]
    }
   ],
   "source": [
    "#2.Write a Python Program to Multiply Two Matrices?\n",
    "\n",
    "try:\n",
    "    import numpy as np\n",
    "\n",
    "    R = int(input(\"Enter the number of rows\"))\n",
    "    C = int(input(\"Enter the number of columns\"))\n",
    "    matrix = []\n",
    "    for i in range(R):\n",
    "        a = []\n",
    "        for j in range(C):\n",
    "            a.append(int(input()))\n",
    "        matrix.append(a)    \n",
    "    for i in range(R):\n",
    "        for j in range(C):\n",
    "            print(matrix[i][j] , end = \" \")\n",
    "        print()\n",
    "\n",
    "    R1 = int(input(\"Enter the number of rows: \"))\n",
    "    C1 = int(input(\"Enter the number of columns: \"))\n",
    "    matrix2 = []\n",
    "    for x in range(R1):\n",
    "        b = []\n",
    "        for y in range(C1):\n",
    "            b.append(int(input()))\n",
    "        matrix2.append(b)    \n",
    "    for x in range(R1):\n",
    "        for y in range(C1):\n",
    "            print(matrix2[x][y] , end = \" \")\n",
    "        print() \n",
    "        \n",
    "except Exception as e:\n",
    "    print(e)\n",
    "    \n",
    "p = np.mat(matrix)\n",
    "w = np.mat(matrix2)\n",
    "print(\"The multiplication of matrix : \\n\" , p@w)"
   ]
  },
  {
   "cell_type": "code",
   "execution_count": 8,
   "id": "1c541e81",
   "metadata": {},
   "outputs": [
    {
     "name": "stdout",
     "output_type": "stream",
     "text": [
      "Enter the number of rows: 3\n",
      "Enter the number of columns: 2\n",
      "32\n",
      "2\n",
      "45\n",
      "6\n",
      "21\n",
      "34\n",
      "32 2 \n",
      "45 6 \n",
      "21 34 \n",
      "Transpose of matrix is : \n",
      " [[32 45 21]\n",
      " [ 2  6 34]] "
     ]
    }
   ],
   "source": [
    "#3.Write a Python Program to Transpose a Matrix?\n",
    "\n",
    "try:\n",
    "    import numpy as np\n",
    "\n",
    "    R = int(input(\"Enter the number of rows: \"))\n",
    "    C = int(input(\"Enter the number of columns: \"))\n",
    "    matrix = []\n",
    "    for i in range(R):\n",
    "        a = []\n",
    "        for j in range(C):\n",
    "            a.append(int(input()))\n",
    "        matrix.append(a)    \n",
    "    for i in range(R):\n",
    "        for j in range(C):\n",
    "            print(matrix[i][j] , end = \" \")\n",
    "        print()\n",
    "        \n",
    "except Exception as e:\n",
    "    print(e)\n",
    "p = np.mat(matrix)\n",
    "print(\"Transpose of matrix is : \\n\" ,p.T, end=\" \")"
   ]
  },
  {
   "cell_type": "code",
   "execution_count": 9,
   "id": "f5c1f69a",
   "metadata": {},
   "outputs": [
    {
     "name": "stdout",
     "output_type": "stream",
     "text": [
      "class fdfs ineuron\n"
     ]
    }
   ],
   "source": [
    "#4. Write a Python Program to Sort Words in Alphabetic Order?\n",
    "\n",
    "try:\n",
    "    \n",
    "    def Func(S):\n",
    "        W = S.split(\" \")\n",
    "        for i in range(len(W)):\n",
    "        \n",
    "            W[i]=W[i].lower()\n",
    "            S = sorted(W)\n",
    "        print(' '.join(S))\n",
    "        \n",
    "except Exception as e:\n",
    "    print(e)\n",
    "\n",
    "\n",
    "\n",
    "\n",
    "Func('FDFS ineuron class')\n",
    "\n"
   ]
  },
  {
   "cell_type": "code",
   "execution_count": 10,
   "id": "c1d7e52e",
   "metadata": {},
   "outputs": [
    {
     "name": "stdout",
     "output_type": "stream",
     "text": [
      "Enter original input tsyt$%#@yfvsyu%&\n",
      "The string after punctuation filter : tsytyfvsyu\n"
     ]
    }
   ],
   "source": [
    "#5.Write a Python Program to Remove Punctuation From a String\n",
    "\n",
    "try:\n",
    "    \n",
    "    import re\n",
    "\n",
    "    test_str = str(input(\"Enter original input \"))\n",
    "    \n",
    "    res = re.sub(r'[^\\w\\s]', '', test_str)\n",
    "    print(\"The string after punctuation filter : \" + res)\n",
    "\n",
    "except Exception as e:\n",
    "    print(e)"
   ]
  },
  {
   "cell_type": "code",
   "execution_count": null,
   "id": "74699291",
   "metadata": {},
   "outputs": [],
   "source": []
  }
 ],
 "metadata": {
  "kernelspec": {
   "display_name": "Python 3 (ipykernel)",
   "language": "python",
   "name": "python3"
  },
  "language_info": {
   "codemirror_mode": {
    "name": "ipython",
    "version": 3
   },
   "file_extension": ".py",
   "mimetype": "text/x-python",
   "name": "python",
   "nbconvert_exporter": "python",
   "pygments_lexer": "ipython3",
   "version": "3.9.7"
  }
 },
 "nbformat": 4,
 "nbformat_minor": 5
}
