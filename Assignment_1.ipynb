{
 "cells": [
  {
   "cell_type": "code",
   "execution_count": null,
   "id": "224ad012",
   "metadata": {},
   "outputs": [],
   "source": [
    "1. In the below elements which of them are values or an expression? eg:- values can be integer or string and expressions will be mathematical operators.\n",
    "\n",
    "* - Expression\n",
    "'hello' - Value\n",
    "-87.8 - Value\n",
    "- - Expression\n",
    "/ - Expression\n",
    "+ - Expression\n",
    "6 - Value"
   ]
  },
  {
   "cell_type": "code",
   "execution_count": null,
   "id": "5ab3222a",
   "metadata": {},
   "outputs": [],
   "source": [
    "2. What is the difference between string and variable?\n",
    "\n",
    "Ans : String is a sequence of characters and is written inside single quotes or double quotes. Example – “Hello”.\n",
    "A variable is something that stores data. it can store a string, int, float, class, etc.. \n",
    "Example – a =10\n"
   ]
  },
  {
   "cell_type": "code",
   "execution_count": null,
   "id": "2b96755f",
   "metadata": {},
   "outputs": [],
   "source": [
    "3. Describe three different data types.\n",
    "\n",
    "Ans :List: the list is used for storing multiple data items in a single variable.\n",
    "Integer: integer can store only numerical values.\n",
    "Float: float can store only floating values such as 233.33, 22.2, etc.\n"
   ]
  },
  {
   "cell_type": "code",
   "execution_count": null,
   "id": "d267d788",
   "metadata": {},
   "outputs": [],
   "source": [
    "4. What is an expression made up of? What do all expressions do?\n",
    "\n",
    "Ans: Expression is made up of values, containers, and mathematical operators (operands)\n",
    "Example – x = 4*3\n",
    "Expressions are used to evaluate the values or represent the result on the screen.\n"
   ]
  },
  {
   "cell_type": "code",
   "execution_count": null,
   "id": "2177596c",
   "metadata": {},
   "outputs": [],
   "source": [
    "5. This assignment statements, like spam = 10. What is the difference between an expression and a statement?\n",
    "\n",
    "Ans: Expression is made up of values, containers, and mathematical operators\n",
    "The statement is like a command that a interpreter executes like print.\n"
   ]
  },
  {
   "cell_type": "code",
   "execution_count": null,
   "id": "d49aa6bb",
   "metadata": {},
   "outputs": [],
   "source": [
    "6. After running the following code, what does the variable bacon contain?\n",
    "bacon = 22\n",
    "bacon + 1\n",
    "\n",
    "Ans : bacon+1 gives 23 . bacon contains value as 22\n"
   ]
  },
  {
   "cell_type": "code",
   "execution_count": null,
   "id": "c1aa8b8d",
   "metadata": {},
   "outputs": [],
   "source": [
    "7. What should the values of the following two terms be?\n",
    "'spam' + 'spamspam' -\n",
    "'spam' * 3\n",
    "\n",
    "Ans : ‘spamspamspam’ . Both give same value\n"
   ]
  },
  {
   "cell_type": "code",
   "execution_count": null,
   "id": "0e162a1f",
   "metadata": {},
   "outputs": [],
   "source": [
    "8. Why is eggs a valid variable name while 100 is invalid?\n",
    "\n",
    "Ans: We cannot start giving variable an integer name. We should begin with, a string-like alphabet name then integer. eggs100 is valid\n"
   ]
  },
  {
   "cell_type": "code",
   "execution_count": null,
   "id": "27a94177",
   "metadata": {},
   "outputs": [],
   "source": [
    "9. What three functions can be used to get the integer, floating-point number, or string version of a value?\n",
    "\n",
    "Ans: str(), int(), float()\n"
   ]
  },
  {
   "cell_type": "code",
   "execution_count": null,
   "id": "8261f1ba",
   "metadata": {},
   "outputs": [],
   "source": [
    "10. Why does this expression cause an error? How can you fix it?\n",
    "'I have eaten ' + 99 + ' burritos.'\n",
    "\n",
    "Ans: 99 is an integer it cannot be concatenated with strings, if we have to concatenate it we need to do typecasting.\n"
   ]
  }
 ],
 "metadata": {
  "kernelspec": {
   "display_name": "Python 3 (ipykernel)",
   "language": "python",
   "name": "python3"
  },
  "language_info": {
   "codemirror_mode": {
    "name": "ipython",
    "version": 3
   },
   "file_extension": ".py",
   "mimetype": "text/x-python",
   "name": "python",
   "nbconvert_exporter": "python",
   "pygments_lexer": "ipython3",
   "version": "3.9.7"
  }
 },
 "nbformat": 4,
 "nbformat_minor": 5
}
