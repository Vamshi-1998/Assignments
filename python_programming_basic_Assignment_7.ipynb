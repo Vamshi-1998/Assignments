{
 "cells": [
  {
   "cell_type": "code",
   "execution_count": 1,
   "id": "2fcfb164",
   "metadata": {},
   "outputs": [
    {
     "name": "stdout",
     "output_type": "stream",
     "text": [
      "29\n"
     ]
    }
   ],
   "source": [
    "#1.Write a Python Program to find sum of array?\n",
    "\n",
    "try:\n",
    "    def arr_sum(x):\n",
    "        sum = 0\n",
    "        for i in range(0,len(x)):\n",
    "            sum = sum+x[i]\n",
    "        print(str(sum))    \n",
    "        \n",
    "except Exception as e:\n",
    "    print(e)\n",
    "    \n",
    "arr_sum([1,21,3,4]) "
   ]
  },
  {
   "cell_type": "code",
   "execution_count": 2,
   "id": "f56f2a28",
   "metadata": {},
   "outputs": [
    {
     "name": "stdout",
     "output_type": "stream",
     "text": [
      "Largest element in an array is: 5\n"
     ]
    }
   ],
   "source": [
    "#2.Write a Python Program to find largest element in an array?\n",
    "\n",
    "try:\n",
    "    \n",
    "    def largest_arr(arr):\n",
    "        max = arr[0]\n",
    "        for i in  range(1,len(arr)):\n",
    "            if arr[i]>max:\n",
    "                max= arr[i]\n",
    "        return max \n",
    "except Exception as e:\n",
    "    print(e)\n",
    "\n",
    "    \n",
    "print(\"Largest element in an array is:\",largest_arr([1,2,4,5,3]))"
   ]
  },
  {
   "cell_type": "code",
   "execution_count": 3,
   "id": "79fa05a1",
   "metadata": {},
   "outputs": [
    {
     "name": "stdout",
     "output_type": "stream",
     "text": [
      "5 6 52 36 12 10 "
     ]
    }
   ],
   "source": [
    "#4.Write a Python Program to Split the array and add the first part to the end?\n",
    "\n",
    "try:\n",
    "    def reverse_array(arr,start,end):\n",
    "         while start < end :\n",
    "            temp = arr[start]\n",
    "            arr[start] = arr[end]\n",
    "            arr[end] =temp\n",
    "            start += 1\n",
    "            end -= 1\n",
    "    def printArray(arr, n) :\n",
    "        for i in range(n):\n",
    "            print(arr[i], end = \" \")    \n",
    "     \n",
    "    def splitArr(arr, k, n):\n",
    "        reverse_array(arr, 0, n - 1)\n",
    "        reverse_array(arr, 0, n - k - 1)\n",
    "        reverse_array(arr, n - k, n - 1)\n",
    "\n",
    "except Exception as e:\n",
    "    print(e)\n",
    "    \n",
    "arr = [12, 10, 5, 6, 52, 36]\n",
    "n = len(arr)\n",
    "k = 2\n",
    "splitArr(arr, k, n)\n",
    "printArray(arr, n)   "
   ]
  },
  {
   "cell_type": "code",
   "execution_count": 4,
   "id": "d68c56ba",
   "metadata": {},
   "outputs": [
    {
     "name": "stdout",
     "output_type": "stream",
     "text": [
      "True\n"
     ]
    }
   ],
   "source": [
    "#5.Write a Python Program to check if given array is Monotonic?\n",
    "\n",
    "try:\n",
    "    def isMonotonic(A):\n",
    "\n",
    "        return (all(A[i] <= A[i + 1] for i in range(len(A) - 1)) or\n",
    "            all(A[i] >= A[i + 1] for i in range(len(A) - 1)))\n",
    "\n",
    "except Exception as e:\n",
    "    print(e)\n",
    "        \n",
    "A = [1,3,6]\n",
    "\n",
    "print(isMonotonic(A))\n",
    "\n"
   ]
  },
  {
   "cell_type": "code",
   "execution_count": null,
   "id": "fef597a1",
   "metadata": {},
   "outputs": [],
   "source": []
  }
 ],
 "metadata": {
  "kernelspec": {
   "display_name": "Python 3 (ipykernel)",
   "language": "python",
   "name": "python3"
  },
  "language_info": {
   "codemirror_mode": {
    "name": "ipython",
    "version": 3
   },
   "file_extension": ".py",
   "mimetype": "text/x-python",
   "name": "python",
   "nbconvert_exporter": "python",
   "pygments_lexer": "ipython3",
   "version": "3.9.7"
  }
 },
 "nbformat": 4,
 "nbformat_minor": 5
}
