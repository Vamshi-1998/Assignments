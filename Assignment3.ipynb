{
 "cells": [
  {
   "cell_type": "code",
   "execution_count": null,
   "id": "e62a217e",
   "metadata": {},
   "outputs": [],
   "source": [
    "1. Why are functions advantageous to have in your programs?\n",
    "Ans: Functions provide code reusability. This makes programs shorter, easier to read, and easier to update.\n"
   ]
  },
  {
   "cell_type": "code",
   "execution_count": null,
   "id": "d826fbf2",
   "metadata": {},
   "outputs": [],
   "source": [
    "3. What statement creates a function?\n",
    "Ans: The def statement creates a function.\n"
   ]
  },
  {
   "cell_type": "code",
   "execution_count": null,
   "id": "b6953d9a",
   "metadata": {},
   "outputs": [],
   "source": [
    "2. When does the code in a function run: when it's specified or when it's called?\n",
    "Ans: The code in a function run when the function is called.\n"
   ]
  },
  {
   "cell_type": "code",
   "execution_count": null,
   "id": "110afc9e",
   "metadata": {},
   "outputs": [],
   "source": [
    "4. What is the difference between a function and a function call?\n",
    "Ans: A function consists of the def statement and the code in its def clause.\n",
    "     A function call is what moves the program execution into the function, and the function call evaluates to the function’s return value."
   ]
  },
  {
   "cell_type": "code",
   "execution_count": null,
   "id": "9fe0cdff",
   "metadata": {},
   "outputs": [],
   "source": [
    "5. How many global scopes are there in a Python program? How many local scopes?\n",
    "Ans: There is one global scope and one local scope\n"
   ]
  },
  {
   "cell_type": "code",
   "execution_count": null,
   "id": "d2914d3d",
   "metadata": {},
   "outputs": [],
   "source": [
    "6. What happens to variables in a local scope when the function call returns?\n",
    "Ans: When a function returns, the local scope is destroyed, and all the variables in it are   forgotten.\n"
   ]
  },
  {
   "cell_type": "code",
   "execution_count": null,
   "id": "1ceaf02c",
   "metadata": {},
   "outputs": [],
   "source": [
    "7. What is the concept of a return value? Is it possible to have a return value in an expression?\n",
    "Ans: A return value is the value that a function call evaluates to. It is possible to have a return value in an expression.\n"
   ]
  },
  {
   "cell_type": "code",
   "execution_count": null,
   "id": "b45d87e4",
   "metadata": {},
   "outputs": [],
   "source": [
    "8. If a function does not have a return statement, what is the return value of a call to that function?\n",
    "Ans: If there is no return statement for a function, its return value is None.\n"
   ]
  },
  {
   "cell_type": "code",
   "execution_count": null,
   "id": "fff39b1e",
   "metadata": {},
   "outputs": [],
   "source": [
    "9. How do you make a function variable refer to the global variable?\n",
    "Ans: A global statement will force a variable in a function to refer to the global variable.\n"
   ]
  },
  {
   "cell_type": "code",
   "execution_count": null,
   "id": "0ab08a99",
   "metadata": {},
   "outputs": [],
   "source": [
    "10. What is the data type of None?\n",
    "Ans: Nonetype.\n"
   ]
  },
  {
   "cell_type": "code",
   "execution_count": null,
   "id": "bfbb788d",
   "metadata": {},
   "outputs": [],
   "source": [
    "11. What does the sentence import areallyourpetsnamederic do?\n",
    "Ans: That import statement imports a module named areallyourpetsnamederic.\n"
   ]
  },
  {
   "cell_type": "code",
   "execution_count": null,
   "id": "e59730f2",
   "metadata": {},
   "outputs": [],
   "source": [
    "12. If you had a bacon() feature in a spam module, what would you call it after importing spam?\n",
    "Ans: spam.bacon()\n"
   ]
  },
  {
   "cell_type": "code",
   "execution_count": null,
   "id": "04fb6c04",
   "metadata": {},
   "outputs": [],
   "source": [
    "13. What can you do to save a programme from crashing if it encounters an error?\n",
    "Ans: Use exception handling handling. Write the code in try clause.\n"
   ]
  },
  {
   "cell_type": "code",
   "execution_count": null,
   "id": "5a96db86",
   "metadata": {},
   "outputs": [],
   "source": [
    "14. What is the purpose of the try clause? What is the purpose of the except clause?\n",
    "Ans: The code that could potentially cause an error goes in the try clause.\n",
    "     The code that executes if an error happens goes in the except clause.\n"
   ]
  }
 ],
 "metadata": {
  "kernelspec": {
   "display_name": "Python 3 (ipykernel)",
   "language": "python",
   "name": "python3"
  },
  "language_info": {
   "codemirror_mode": {
    "name": "ipython",
    "version": 3
   },
   "file_extension": ".py",
   "mimetype": "text/x-python",
   "name": "python",
   "nbconvert_exporter": "python",
   "pygments_lexer": "ipython3",
   "version": "3.9.7"
  }
 },
 "nbformat": 4,
 "nbformat_minor": 5
}
