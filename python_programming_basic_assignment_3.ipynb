{
 "cells": [
  {
   "cell_type": "code",
   "execution_count": 1,
   "id": "15572414",
   "metadata": {},
   "outputs": [
    {
     "name": "stdout",
     "output_type": "stream",
     "text": [
      "Enter the number\n",
      "2\n",
      "2 is a positive number\n"
     ]
    }
   ],
   "source": [
    "#1.Write a Python Program to Check if a Number is Positive, Negative or Zero?\n",
    "\n",
    "try:\n",
    "    print(\"Enter the number\")\n",
    "    a = int(input())\n",
    "    if(a > 0):\n",
    "        print(a ,\"is a positive number\")\n",
    "    elif(a < 0):\n",
    "        print(a ,\"is a negative number\")\n",
    "    else:\n",
    "        print(a ,\"Zero\")\n",
    "except Exception as e:\n",
    "    print(e)"
   ]
  },
  {
   "cell_type": "code",
   "execution_count": 2,
   "id": "1c0784f1",
   "metadata": {},
   "outputs": [
    {
     "name": "stdout",
     "output_type": "stream",
     "text": [
      "Enter the number\n",
      "3\n",
      "3 is a odd number\n"
     ]
    }
   ],
   "source": [
    "#2.Write a Python Program to Check if a Number is Odd or Even?\n",
    "\n",
    "try:\n",
    "    print(\"Enter the number\")\n",
    "    x = int(input())\n",
    "    if(x % 2 == 0):\n",
    "        print(x , \"is a even number\")\n",
    "    else:\n",
    "        print(x, \"is a odd number\")\n",
    "except Exception as e:\n",
    "    print(e)\n",
    "    "
   ]
  },
  {
   "cell_type": "code",
   "execution_count": 3,
   "id": "7f2e3b11",
   "metadata": {},
   "outputs": [
    {
     "name": "stdout",
     "output_type": "stream",
     "text": [
      "Enter the year\n",
      "2021\n",
      "2021 is not a leap year\n"
     ]
    }
   ],
   "source": [
    "#3.Write a Python Program to Check Leap Year?\n",
    "\n",
    "try:\n",
    "    print(\"Enter the year\")\n",
    "    year = int(input())\n",
    "    if((year % 400 == 0) or  (year % 100 != 0) and  (year % 4 == 0)):\n",
    "            print(year ,\"is a leap year\")\n",
    "    else:\n",
    "        print(year ,\"is not a leap year\")\n",
    "except Exception as e:\n",
    "    print(e)"
   ]
  },
  {
   "cell_type": "code",
   "execution_count": 11,
   "id": "1e2e0ccd",
   "metadata": {},
   "outputs": [
    {
     "name": "stdout",
     "output_type": "stream",
     "text": [
      "Enter a number:5\n",
      "5 is a prime number\n"
     ]
    }
   ],
   "source": [
    "#4.Write a Python Program to Check Prime Number?\n",
    "\n",
    "try:\n",
    "    n=int(input(\"Enter a number:\"))\n",
    "    if n>1:\n",
    "        for i in range(2,int(n/2)+1):\n",
    "            if(n%i)==0:\n",
    "                print(n,\"is not a prime number\")\n",
    "                break\n",
    "            else:\n",
    "                print(n,\"is a prime number\")\n",
    "    else: \n",
    "        print(n,\"is not a prime number\")\n",
    "    \n",
    "except Exception as e:\n",
    "    print(e)\n",
    "        "
   ]
  },
  {
   "cell_type": "code",
   "execution_count": 14,
   "id": "9a6bb8f6",
   "metadata": {},
   "outputs": [
    {
     "name": "stdout",
     "output_type": "stream",
     "text": [
      "enter a number1000000\n",
      "invalid number\n"
     ]
    }
   ],
   "source": [
    "#5.Write a Python Program to Print all Prime Numbers in an Interval of 1-10000?\n",
    "\n",
    "try:\n",
    "    n = int(input(\"enter a number\"))\n",
    "    if((n>=1) and (n<=10000)):\n",
    "        if n>1:\n",
    "            for i in range(2,int(n/2)+1):\n",
    "                if(n%i)==0:\n",
    "                    print(n,\"is not a prime number\")\n",
    "                    break\n",
    "                else:\n",
    "                    print(n,\"is a prime number\")\n",
    "        else: \n",
    "            print(n,\"is not a prime number\")\n",
    "    else:\n",
    "        print(\"invalid number\")\n",
    "except Exception as e:\n",
    "    print(e)       \n"
   ]
  },
  {
   "cell_type": "code",
   "execution_count": null,
   "id": "b9cf067c",
   "metadata": {},
   "outputs": [],
   "source": []
  }
 ],
 "metadata": {
  "kernelspec": {
   "display_name": "Python 3 (ipykernel)",
   "language": "python",
   "name": "python3"
  },
  "language_info": {
   "codemirror_mode": {
    "name": "ipython",
    "version": 3
   },
   "file_extension": ".py",
   "mimetype": "text/x-python",
   "name": "python",
   "nbconvert_exporter": "python",
   "pygments_lexer": "ipython3",
   "version": "3.9.7"
  }
 },
 "nbformat": 4,
 "nbformat_minor": 5
}
